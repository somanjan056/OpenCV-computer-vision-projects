{
 "cells": [
  {
   "cell_type": "markdown",
   "id": "3d20caf0-ba57-41c1-9901-719d13fbbbec",
   "metadata": {},
   "source": [
    "This notebook will help you take your first steps in learning Image Processing and Computer Vision using OpenCV. You will learn some important lessons using some simple examples. In this notebook, you will learn the following:\n",
    "\n",
    "1. Reading an image\n",
    "2. Check image attributes like datatype and shape\n",
    "3. Matrix representation of an image in Numpy\n",
    "4. Color Images and splitting/merging image channels\n",
    "5. Displaying images using matplotlib\n",
    "6. Saving images"
   ]
  },
  {
   "cell_type": "code",
   "execution_count": null,
   "id": "3ac61b73-635f-4cd0-ba61-0120ee1a8129",
   "metadata": {},
   "outputs": [],
   "source": []
  }
 ],
 "metadata": {
  "kernelspec": {
   "display_name": "Python 3 (ipykernel)",
   "language": "python",
   "name": "python3"
  },
  "language_info": {
   "codemirror_mode": {
    "name": "ipython",
    "version": 3
   },
   "file_extension": ".py",
   "mimetype": "text/x-python",
   "name": "python",
   "nbconvert_exporter": "python",
   "pygments_lexer": "ipython3",
   "version": "3.12.7"
  }
 },
 "nbformat": 4,
 "nbformat_minor": 5
}
